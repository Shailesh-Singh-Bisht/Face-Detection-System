{
  "cells": [
    {
      "cell_type": "code",
      "execution_count": null,
      "metadata": {
        "colab": {
          "base_uri": "https://localhost:8080/"
        },
        "id": "wxmSZoYsAdQ7",
        "outputId": "6def8557-7fb2-4529-c7fc-6f374751cdc1"
      },
      "outputs": [],
      "source": [
        "import os\n",
        "\n",
        "if 'COLAB_GPU' in os.environ:\n",
        "  print(\"GPU IS enabled\")\n",
        "else:\n",
        "  print(\"GPU IS not enabled\")"
      ]
    },
    {
      "cell_type": "markdown",
      "metadata": {
        "id": "n9P-_dweA_tY"
      },
      "source": [
        "**INSTALL YOLO-8 Model**"
      ]
    },
    {
      "cell_type": "code",
      "execution_count": null,
      "metadata": {
        "colab": {
          "base_uri": "https://localhost:8080/"
        },
        "id": "Wm3hInYpBALA",
        "outputId": "5bbb9651-502e-41d5-9856-0f844a722e92"
      },
      "outputs": [],
      "source": [
        "!pip install ultralytics==8.0.20"
      ]
    },
    {
      "cell_type": "markdown",
      "metadata": {
        "id": "mq7vACiGBGfY"
      },
      "source": [
        "**Check If YOLO-8 has been installed properly or not**"
      ]
    },
    {
      "cell_type": "code",
      "execution_count": null,
      "metadata": {
        "colab": {
          "base_uri": "https://localhost:8080/"
        },
        "id": "VH5WznQhBG7g",
        "outputId": "2427bed3-3e2c-4eec-d722-7a98b589d045"
      },
      "outputs": [],
      "source": [
        "import ultralytics\n",
        "\n",
        "ultralytics.checks()"
      ]
    },
    {
      "cell_type": "markdown",
      "metadata": {
        "id": "oZzsPD7OBOZh"
      },
      "source": [
        "**Import Dataset from Roboflow**"
      ]
    },
    {
      "cell_type": "code",
      "execution_count": null,
      "metadata": {
        "colab": {
          "base_uri": "https://localhost:8080/",
          "height": 36
        },
        "id": "hgFa3N6NBOy6",
        "outputId": "d5bad0c9-fcea-4bb8-8fa6-e0f980cd2d3b"
      },
      "outputs": [],
      "source": [
        "%pwd"
      ]
    },
    {
      "cell_type": "code",
      "execution_count": 5,
      "metadata": {
        "id": "0KPhYzFUBRg6"
      },
      "outputs": [],
      "source": [
        "!mkdir FaceDetectionSystem"
      ]
    },
    {
      "cell_type": "code",
      "execution_count": null,
      "metadata": {
        "colab": {
          "base_uri": "https://localhost:8080/"
        },
        "id": "Ow4C4YaqBW-q",
        "outputId": "c149960e-308e-4ff8-96a2-d3878a4b6c5f"
      },
      "outputs": [],
      "source": [
        "!ls"
      ]
    },
    {
      "cell_type": "code",
      "execution_count": null,
      "metadata": {
        "colab": {
          "base_uri": "https://localhost:8080/",
          "height": 36
        },
        "id": "onT7UEVFBZVy",
        "outputId": "ffe1b37f-8a07-4140-acd3-2779294f7b07"
      },
      "outputs": [],
      "source": [
        "%pwd"
      ]
    },
    {
      "cell_type": "code",
      "execution_count": 8,
      "metadata": {
        "id": "unJ3pDANBb97"
      },
      "outputs": [],
      "source": [
        "os.chdir(\"/content/FaceDetectionSystem\")"
      ]
    },
    {
      "cell_type": "code",
      "execution_count": null,
      "metadata": {
        "colab": {
          "base_uri": "https://localhost:8080/",
          "height": 36
        },
        "id": "m1XvhQC8Bi_D",
        "outputId": "adca0bf3-174f-4359-a28b-6eb9fbb64e72"
      },
      "outputs": [],
      "source": [
        "%pwd"
      ]
    },
    {
      "cell_type": "code",
      "execution_count": null,
      "metadata": {
        "colab": {
          "base_uri": "https://localhost:8080/"
        },
        "id": "lhmg1c4GCYlE",
        "outputId": "43435aa1-c0a4-4aaa-c6d4-5f654b4e275e"
      },
      "outputs": [],
      "source": [
        "!pip install roboflow\n",
        "\n",
        "from roboflow import Roboflow\n",
        "rf = Roboflow(api_key=\"nMR2Q9F9mEqqrp9XinBk\")\n",
        "project = rf.workspace(\"mohamed-traore-2ekkp\").project(\"face-detection-mik1i\")\n",
        "version = project.version(18)\n",
        "dataset = version.download(\"yolov8\")\n"
      ]
    },
    {
      "cell_type": "markdown",
      "metadata": {
        "id": "K61LGMKwCohO"
      },
      "source": [
        "**Training The YOLOv8 Over A Custom Dataset**"
      ]
    },
    {
      "cell_type": "code",
      "execution_count": 11,
      "metadata": {
        "id": "MlwSY6mICo8e"
      },
      "outputs": [],
      "source": [
        "os.chdir(\"/content/FaceDetectionSystem/Face-Detection-18\")"
      ]
    },
    {
      "cell_type": "code",
      "execution_count": null,
      "metadata": {
        "colab": {
          "base_uri": "https://localhost:8080/",
          "height": 36
        },
        "id": "uW6kxOklCulf",
        "outputId": "c069d738-1ec0-4a03-8555-e8a0485825ab"
      },
      "outputs": [],
      "source": [
        "%pwd"
      ]
    },
    {
      "cell_type": "code",
      "execution_count": null,
      "metadata": {
        "colab": {
          "base_uri": "https://localhost:8080/"
        },
        "id": "-15K26osDv0v",
        "outputId": "b9fe68eb-d61d-4a8f-f05b-3990d29fcd99"
      },
      "outputs": [],
      "source": [
        "!yolo task=detect \\\n",
        "      mode=train \\\n",
        "      model=yolov8n.pt \\\n",
        "      data=\"/content/FaceDetectionSystem/Face-Detection-18/data.yaml\" \\\n",
        "      epochs=25 \\\n",
        "      imgsz=640 \\\n",
        "      batch=16 \\\n",
        "      augment=True"
      ]
    },
    {
      "cell_type": "markdown",
      "metadata": {
        "id": "c7JNc5GULKcI"
      },
      "source": [
        "**Display Some Of The Content We Obtained**"
      ]
    },
    {
      "cell_type": "code",
      "execution_count": 14,
      "metadata": {
        "colab": {
          "base_uri": "https://localhost:8080/"
        },
        "id": "AqTggZE6LLAB",
        "outputId": "5593710b-1941-4198-b881-513054738380"
      },
      "outputs": [
        {
          "name": "stdout",
          "output_type": "stream",
          "text": [
            "best.pt  last.pt\n"
          ]
        }
      ],
      "source": [
        "!ls '/content/FaceDetectionSystem/Face-Detection-18/runs/detect/train/weights'"
      ]
    },
    {
      "cell_type": "code",
      "execution_count": null,
      "metadata": {
        "colab": {
          "base_uri": "https://localhost:8080/"
        },
        "id": "knJrhm3lLT7i",
        "outputId": "11e127f9-c3ce-4ea1-c8e1-ce1635f86feb"
      },
      "outputs": [],
      "source": [
        "!ls '/content/FaceDetectionSystem/Face-Detection-18/runs/detect/train'"
      ]
    },
    {
      "cell_type": "code",
      "execution_count": null,
      "metadata": {
        "colab": {
          "base_uri": "https://localhost:8080/",
          "height": 851
        },
        "id": "AguwUm6bLZ_p",
        "outputId": "b798c8bc-1f2b-444b-b0cd-821ffe52ac9c"
      },
      "outputs": [],
      "source": [
        "resultData=\"/content/FaceDetectionSystem/Face-Detection-18/runs/detect/train/\"\n",
        "\n",
        "from IPython.display import Image, display\n",
        "\n",
        "Image(filename = f'{resultData}confusion_matrix.png')"
      ]
    },
    {
      "cell_type": "code",
      "execution_count": null,
      "metadata": {
        "colab": {
          "base_uri": "https://localhost:8080/",
          "height": 573
        },
        "id": "7uE7l77HLl9L",
        "outputId": "5be812cd-3d79-48f3-e513-00b288587333"
      },
      "outputs": [],
      "source": [
        "Image(filename = f'{resultData}results.png')"
      ]
    },
    {
      "cell_type": "code",
      "execution_count": null,
      "metadata": {
        "colab": {
          "base_uri": "https://localhost:8080/"
        },
        "id": "f48b7Bl6Ltkc",
        "outputId": "bee8874b-4205-493c-9bec-8185528b50af"
      },
      "outputs": [],
      "source": [
        "import pandas as pd\n",
        "\n",
        "df=pd.read_csv(f'{resultData}results.csv')\n",
        "\n",
        "print(df.head(3))"
      ]
    },
    {
      "cell_type": "code",
      "execution_count": null,
      "metadata": {
        "colab": {
          "base_uri": "https://localhost:8080/"
        },
        "id": "cqlm24ZhLwRF",
        "outputId": "556f8279-b3f6-4e3c-e92d-8e779c8e4332"
      },
      "outputs": [],
      "source": [
        "import pandas as pd\n",
        "\n",
        "df=pd.read_csv(f'{resultData}results.csv')\n",
        "\n",
        "print(df.tail(1))"
      ]
    },
    {
      "cell_type": "markdown",
      "metadata": {
        "id": "EWvQ69bRL_pn"
      },
      "source": [
        "**Test your model on any arbitary video containing road signs**"
      ]
    },
    {
      "cell_type": "code",
      "execution_count": null,
      "metadata": {
        "colab": {
          "base_uri": "https://localhost:8080/",
          "height": 36
        },
        "id": "DzH35XhcMAFV",
        "outputId": "bf8378f9-969b-4a01-c0b1-7d8a85aa6945"
      },
      "outputs": [],
      "source": [
        "%pwd"
      ]
    },
    {
      "cell_type": "code",
      "execution_count": 21,
      "metadata": {
        "id": "poUphgjdMGRw"
      },
      "outputs": [],
      "source": [
        "os.chdir(\"/content\")"
      ]
    },
    {
      "cell_type": "code",
      "execution_count": null,
      "metadata": {
        "colab": {
          "base_uri": "https://localhost:8080/",
          "height": 36
        },
        "id": "_OeOW-hIMQpy",
        "outputId": "fa57c4b4-f86b-4654-cf02-cad90af97cc2"
      },
      "outputs": [],
      "source": [
        "%pwd"
      ]
    },
    {
      "cell_type": "code",
      "execution_count": 23,
      "metadata": {
        "id": "HWKyfAaJMdek"
      },
      "outputs": [],
      "source": [
        "!mkdir ManualTestingData"
      ]
    },
    {
      "cell_type": "code",
      "execution_count": 24,
      "metadata": {
        "id": "hEt6QesmMlz9"
      },
      "outputs": [],
      "source": [
        "os.chdir(\"/content/ManualTestingData\")"
      ]
    },
    {
      "cell_type": "code",
      "execution_count": null,
      "metadata": {
        "colab": {
          "base_uri": "https://localhost:8080/",
          "height": 36
        },
        "id": "z_Hi1S9LMrpt",
        "outputId": "7b6abe7c-144b-4a7c-aa0e-99595cb767f5"
      },
      "outputs": [],
      "source": [
        "%pwd"
      ]
    },
    {
      "cell_type": "code",
      "execution_count": null,
      "metadata": {
        "colab": {
          "base_uri": "https://localhost:8080/"
        },
        "id": "UxarOiorOwXw",
        "outputId": "3b284428-ae59-42b5-8c54-843e49662f27"
      },
      "outputs": [],
      "source": [
        "weightsPath=\"/content/FaceDetectionSystem/Face-Detection-18/runs/detect/train/weights\"\n",
        "\n",
        "!yolo task=detect mode=predict model={weightsPath}/best.pt  source=\"/content/ManualTestingData/videoplayback.mp4\" save=True conf=0.5\n"
      ]
    },
    {
      "cell_type": "code",
      "execution_count": null,
      "metadata": {
        "colab": {
          "base_uri": "https://localhost:8080/",
          "height": 17
        },
        "id": "7OKegYmJPxWZ",
        "outputId": "610acb68-3481-4315-ad98-a422b5170aa0"
      },
      "outputs": [],
      "source": [
        "from google.colab import files\n",
        "\n",
        "files.download('/content/ManualTestingData/runs/detect/predict/videoplayback.mp4')"
      ]
    }
  ],
  "metadata": {
    "accelerator": "GPU",
    "colab": {
      "gpuType": "T4",
      "provenance": []
    },
    "kernelspec": {
      "display_name": "Python 3",
      "name": "python3"
    },
    "language_info": {
      "name": "python"
    }
  },
  "nbformat": 4,
  "nbformat_minor": 0
}
